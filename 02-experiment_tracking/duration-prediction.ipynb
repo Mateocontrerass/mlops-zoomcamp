{
 "cells": [
  {
   "cell_type": "code",
   "execution_count": 1,
   "id": "b2bd82d7",
   "metadata": {},
   "outputs": [
    {
     "name": "stdout",
     "output_type": "stream",
     "text": [
      "Python 3.9.0\n"
     ]
    }
   ],
   "source": [
    "!python -V"
   ]
  },
  {
   "cell_type": "code",
   "execution_count": 2,
   "id": "41062d8a",
   "metadata": {},
   "outputs": [],
   "source": [
    "import pandas as pd"
   ]
  },
  {
   "cell_type": "code",
   "execution_count": 3,
   "id": "c984c564",
   "metadata": {},
   "outputs": [],
   "source": [
    "import pickle"
   ]
  },
  {
   "cell_type": "code",
   "execution_count": 4,
   "id": "4add538c",
   "metadata": {},
   "outputs": [],
   "source": [
    "import seaborn as sns\n",
    "import matplotlib.pyplot as plt"
   ]
  },
  {
   "cell_type": "code",
   "execution_count": 29,
   "id": "8b135c2b",
   "metadata": {},
   "outputs": [],
   "source": [
    "from sklearn.feature_extraction import DictVectorizer\n",
    "from sklearn.linear_model import LinearRegression\n",
    "from sklearn.linear_model import Lasso\n",
    "from sklearn.linear_model import Ridge\n",
    "\n",
    "from sklearn.metrics import root_mean_squared_error\n",
    "from sklearn.metrics import mean_squared_error"
   ]
  },
  {
   "cell_type": "code",
   "execution_count": 6,
   "id": "38919093",
   "metadata": {},
   "outputs": [
    {
     "name": "stderr",
     "output_type": "stream",
     "text": [
      "2025/05/19 17:03:12 INFO mlflow.tracking.fluent: Experiment with name 'nyc-taxi-experiment' does not exist. Creating a new experiment.\n"
     ]
    },
    {
     "data": {
      "text/plain": [
       "<Experiment: artifact_location='file:///c:/Users/Mateo/OneDrive/Documentos/github/mlops-zoomcamp/02-experiment_tracking/mlruns/1', creation_time=1747692192186, experiment_id='1', last_update_time=1747692192186, lifecycle_stage='active', name='nyc-taxi-experiment', tags={}>"
      ]
     },
     "execution_count": 6,
     "metadata": {},
     "output_type": "execute_result"
    }
   ],
   "source": [
    "import mlflow\n",
    "mlflow.set_tracking_uri(\"sqlite:///mlflow.db\")\n",
    "mlflow.set_experiment(\"nyc-taxi-experiment\")"
   ]
  },
  {
   "cell_type": "code",
   "execution_count": 8,
   "id": "8e013caf",
   "metadata": {},
   "outputs": [],
   "source": [
    "df = pd.read_parquet('https://d37ci6vzurychx.cloudfront.net/trip-data/green_tripdata_2021-01.parquet')\n",
    "\n",
    "\n",
    "df['duration'] = df.lpep_dropoff_datetime - df.lpep_pickup_datetime\n",
    "df.duration = df.duration.apply(lambda td: td.total_seconds() / 60)\n",
    "\n",
    "df = df[(df.duration >= 1) & (df.duration <= 60)]\n",
    "\n",
    "categorical = ['PULocationID', 'DOLocationID']\n",
    "numerical = ['trip_distance']\n",
    "\n",
    "df[categorical] = df[categorical].astype(str)"
   ]
  },
  {
   "cell_type": "code",
   "execution_count": 9,
   "id": "116ff0cc",
   "metadata": {},
   "outputs": [
    {
     "data": {
      "text/plain": [
       "9.827368941909368"
      ]
     },
     "execution_count": 9,
     "metadata": {},
     "output_type": "execute_result"
    }
   ],
   "source": [
    "train_dicts = df[categorical + numerical].to_dict(orient='records')\n",
    "\n",
    "dv = DictVectorizer()\n",
    "X_train = dv.fit_transform(train_dicts)\n",
    "\n",
    "target = 'duration'\n",
    "y_train = df[target].values\n",
    "\n",
    "lr = LinearRegression()\n",
    "lr.fit(X_train, y_train)\n",
    "\n",
    "y_pred = lr.predict(X_train)\n",
    "\n",
    "root_mean_squared_error(y_train, y_pred)"
   ]
  },
  {
   "cell_type": "code",
   "execution_count": 24,
   "id": "b134c97b",
   "metadata": {},
   "outputs": [
    {
     "name": "stderr",
     "output_type": "stream",
     "text": [
      "C:\\Users\\Mateo\\AppData\\Local\\Temp\\ipykernel_572\\1672306066.py:1: UserWarning: \n",
      "\n",
      "`distplot` is a deprecated function and will be removed in seaborn v0.14.0.\n",
      "\n",
      "Please adapt your code to use either `displot` (a figure-level function with\n",
      "similar flexibility) or `histplot` (an axes-level function for histograms).\n",
      "\n",
      "For a guide to updating your code to use the new functions, please see\n",
      "https://gist.github.com/mwaskom/de44147ed2974457ad6372750bbe5751\n",
      "\n",
      "  sns.distplot(y_pred, label='prediction')\n",
      "C:\\Users\\Mateo\\AppData\\Local\\Temp\\ipykernel_572\\1672306066.py:2: UserWarning: \n",
      "\n",
      "`distplot` is a deprecated function and will be removed in seaborn v0.14.0.\n",
      "\n",
      "Please adapt your code to use either `displot` (a figure-level function with\n",
      "similar flexibility) or `histplot` (an axes-level function for histograms).\n",
      "\n",
      "For a guide to updating your code to use the new functions, please see\n",
      "https://gist.github.com/mwaskom/de44147ed2974457ad6372750bbe5751\n",
      "\n",
      "  sns.distplot(y_train, label='actual')\n"
     ]
    },
    {
     "data": {
      "text/plain": [
       "<matplotlib.legend.Legend at 0x200c4e44b50>"
      ]
     },
     "execution_count": 24,
     "metadata": {},
     "output_type": "execute_result"
    },
    {
     "data": {
      "image/png": "[encoded data removed]",
      "text/plain": [
       "<Figure size 640x480 with 1 Axes>"
      ]
     },
     "metadata": {},
     "output_type": "display_data"
    }
   ],
   "source": [
    "sns.distplot(y_pred, label='prediction')\n",
    "sns.distplot(y_train, label='actual')\n",
    "\n",
    "plt.legend()"
   ]
  },
  {
   "cell_type": "code",
   "execution_count": 11,
   "id": "f9e6479e",
   "metadata": {},
   "outputs": [],
   "source": [
    "def read_dataframe(filename):\n",
    "    if filename.endswith('.csv'):\n",
    "        df = pd.read_csv(filename)\n",
    "\n",
    "        df.lpep_dropoff_datetime = pd.to_datetime(df.lpep_dropoff_datetime)\n",
    "        df.lpep_pickup_datetime = pd.to_datetime(df.lpep_pickup_datetime)\n",
    "    elif filename.endswith('.parquet'):\n",
    "        df = pd.read_parquet(filename)\n",
    "\n",
    "    df['duration'] = df.lpep_dropoff_datetime - df.lpep_pickup_datetime\n",
    "    df.duration = df.duration.apply(lambda td: td.total_seconds() / 60)\n",
    "\n",
    "    df = df[(df.duration >= 1) & (df.duration <= 60)]\n",
    "\n",
    "    categorical = ['PULocationID', 'DOLocationID']\n",
    "    df[categorical] = df[categorical].astype(str)\n",
    "    \n",
    "    return df"
   ]
  },
  {
   "cell_type": "code",
   "execution_count": 13,
   "id": "8029eba0",
   "metadata": {},
   "outputs": [],
   "source": [
    "df_train = read_dataframe('https://d37ci6vzurychx.cloudfront.net/trip-data/green_tripdata_2021-01.parquet')\n",
    "df_val = read_dataframe('https://d37ci6vzurychx.cloudfront.net/trip-data/green_tripdata_2021-02.parquet')"
   ]
  },
  {
   "cell_type": "code",
   "execution_count": 14,
   "id": "f6f2f0eb",
   "metadata": {},
   "outputs": [
    {
     "data": {
      "text/plain": [
       "(73908, 61921)"
      ]
     },
     "execution_count": 14,
     "metadata": {},
     "output_type": "execute_result"
    }
   ],
   "source": [
    "len(df_train), len(df_val)"
   ]
  },
  {
   "cell_type": "code",
   "execution_count": 15,
   "id": "951d51ef",
   "metadata": {},
   "outputs": [],
   "source": [
    "df_train['PU_DO'] = df_train['PULocationID'] + '_' + df_train['DOLocationID']\n",
    "df_val['PU_DO'] = df_val['PULocationID'] + '_' + df_val['DOLocationID']"
   ]
  },
  {
   "cell_type": "code",
   "execution_count": 16,
   "id": "c5cbfc25",
   "metadata": {},
   "outputs": [],
   "source": [
    "categorical = ['PU_DO'] #'PULocationID', 'DOLocationID']\n",
    "numerical = ['trip_distance']\n",
    "\n",
    "dv = DictVectorizer()\n",
    "\n",
    "train_dicts = df_train[categorical + numerical].to_dict(orient='records')\n",
    "X_train = dv.fit_transform(train_dicts)\n",
    "\n",
    "val_dicts = df_val[categorical + numerical].to_dict(orient='records')\n",
    "X_val = dv.transform(val_dicts)"
   ]
  },
  {
   "cell_type": "code",
   "execution_count": 17,
   "id": "1e9fb68b",
   "metadata": {},
   "outputs": [],
   "source": [
    "target = 'duration'\n",
    "y_train = df_train[target].values\n",
    "y_val = df_val[target].values"
   ]
  },
  {
   "cell_type": "code",
   "execution_count": 18,
   "id": "429e2394",
   "metadata": {},
   "outputs": [
    {
     "data": {
      "text/plain": [
       "7.758715203341164"
      ]
     },
     "execution_count": 18,
     "metadata": {},
     "output_type": "execute_result"
    }
   ],
   "source": [
    "lr = LinearRegression()\n",
    "lr.fit(X_train, y_train)\n",
    "\n",
    "y_pred = lr.predict(X_val)\n",
    "\n",
    "root_mean_squared_error(y_val, y_pred)"
   ]
  },
  {
   "cell_type": "code",
   "execution_count": 21,
   "id": "22bf6f8b",
   "metadata": {},
   "outputs": [],
   "source": [
    "with open('models/lin_reg.bin', 'wb') as f_out:\n",
    "    pickle.dump((dv, lr), f_out)"
   ]
  },
  {
   "cell_type": "markdown",
   "id": "f1ea4059",
   "metadata": {},
   "source": [
    "### **MLFLOW**: Simple example on how to use MLFLOW"
   ]
  },
  {
   "cell_type": "code",
   "execution_count": null,
   "id": "a4999b94",
   "metadata": {},
   "outputs": [],
   "source": [
    "with mlflow.start_run():\n",
    "\n",
    "    mlflow.set_tag(\"developer\",\"mateo\")\n",
    "    mlflow.log_param(\"train-data-path\",'https://d37ci6vzurychx.cloudfront.net/trip-data/green_tripdata_2021-01.parquet')\n",
    "    mlflow.log_param(\"valid-data-path\",'https://d37ci6vzurychx.cloudfront.net/trip-data/green_tripdata_2021-02.parquet')\n",
    "\n",
    "    alpha = 0.1\n",
    "    mlflow.log_param(\"alpha\",alpha)\n",
    "\n",
    "    lr = Lasso(alpha)\n",
    "    lr.fit(X_train, y_train)\n",
    "\n",
    "    y_pred = lr.predict(X_val)\n",
    "\n",
    "    rmse = root_mean_squared_error(y_val, y_pred)\n",
    "\n",
    "\n",
    "\n",
    "    mlflow.log_metric(\"rmse\",rmse)\n",
    "\n",
    "    # save the model\n",
    "    mlflow.log_artifact(local_path=\"models/lin_reg.bin\" , artifact_path=\"models_pickle\")"
   ]
  },
  {
   "cell_type": "markdown",
   "id": "404bfa92",
   "metadata": {},
   "source": [
    "--------------------------"
   ]
  },
  {
   "cell_type": "markdown",
   "id": "8c67f715",
   "metadata": {},
   "source": [
    "## **MLFLOW**: Setting up for hyperparameter optimization"
   ]
  },
  {
   "cell_type": "code",
   "execution_count": null,
   "id": "47b0eb9b",
   "metadata": {},
   "outputs": [],
   "source": [
    "# Libraries for bayesian hiperparameter optimization\n",
    "\n",
    "import xgboost as xgb\n",
    "\n",
    "from hyperopt import fmin, tpe, hp, STATUS_OK, Trials\n",
    "from hyperopt.pyll import scope \n",
    "\n"
   ]
  },
  {
   "cell_type": "markdown",
   "id": "4a12541f",
   "metadata": {},
   "source": [
    "* dfmin: main function to minimize a loss function.\n",
    "\n",
    "* tpe.suggest: the optimization algorithm (Tree-structured Parzen Estimator).\n",
    "\n",
    "* hp: defines the hyperparameter search space.\n",
    "\n",
    "* Trials: object to store information about each trial.\n",
    "\n",
    "* STATUS_OK: status flag used by hyperopt."
   ]
  },
  {
   "cell_type": "markdown",
   "id": "3b234b29",
   "metadata": {},
   "source": [
    "### **MODEL**: Create the train and validation sets"
   ]
  },
  {
   "cell_type": "code",
   "execution_count": 36,
   "id": "538bd60e",
   "metadata": {},
   "outputs": [],
   "source": [
    "train = xgb.DMatrix(X_train, label=y_train)\n",
    "valid = xgb.DMatrix(X_val,label=y_val)"
   ]
  },
  {
   "cell_type": "code",
   "execution_count": null,
   "id": "138cde9b",
   "metadata": {},
   "outputs": [],
   "source": [
    "# Define the objective function \n",
    "\n",
    "def objective(params):\n",
    "    with mlflow.start_run():\n",
    "        mlflow.set_tag(\"model\",\"xgboost\")\n",
    "        mlflow.log_params(params)\n",
    "\n",
    "        booster = xgb.train(\n",
    "            params=params,\n",
    "            dtrain=train,\n",
    "            num_boost_round=55,\n",
    "            evals=[(valid,\"validation\")],\n",
    "            early_stopping_rounds=50,\n",
    "        )\n",
    "\n",
    "        y_pred = booster.predict(valid)\n",
    "        rmse = mean_squared_error(y_val, y_pred)\n",
    "        mlflow.log_metric(\"rmse\",rmse)\n",
    "\n",
    "    return {'loss':rmse,\n",
    "            'status':STATUS_OK}"
   ]
  },
  {
   "cell_type": "markdown",
   "id": "a0a7c44f",
   "metadata": {},
   "source": [
    "### **MODEL:** Define the search space"
   ]
  },
  {
   "cell_type": "code",
   "execution_count": 41,
   "id": "cbf78593",
   "metadata": {},
   "outputs": [],
   "source": [
    "search_space = {\n",
    "    'max_depth': scope.int(hp.quniform('max_depth',4,100,1)),\n",
    "    'learning_rate': hp.loguniform('learning_rate',-3,0), #  values between exp(-3) - exp(0) [0.05, 1]\n",
    "    'reg_alpha' : hp.loguniform('reg_alpha',-5,-1),\n",
    "    'reg_lambda': hp.loguniform('reg_lambda',-6,-1),\n",
    "    'min_child_weight': hp.loguniform('min_child_weight',-1,3),\n",
    "    'objective' : 'reg:linear',\n",
    "    'seed' : 123\n",
    "}"
   ]
  },
  {
   "cell_type": "markdown",
   "id": "1a00b328",
   "metadata": {},
   "source": [
    "### **MODEL**: Finding the best model"
   ]
  },
  {
   "cell_type": "code",
   "execution_count": 42,
   "id": "5c687f6d",
   "metadata": {},
   "outputs": [
    {
     "name": "stdout",
     "output_type": "stream",
     "text": [
      "  0%|          | 0/10 [00:00<?, ?trial/s, best loss=?]"
     ]
    },
    {
     "name": "stderr",
     "output_type": "stream",
     "text": [
      "c:\\Users\\Mateo\\miniconda3\\envs\\mlopsw2\\lib\\site-packages\\xgboost\\core.py:158: UserWarning: [17:48:09] WARNING: C:\\buildkite-agent\\builds\\buildkite-windows-cpu-autoscaling-group-i-08cbc0333d8d4aae1-1\\xgboost\\xgboost-ci-windows\\src\\objective\\regression_obj.cu:227: reg:linear is now deprecated in favor of reg:squarederror.\n",
      "  warnings.warn(smsg, UserWarning)\n",
      "\n"
     ]
    },
    {
     "name": "stdout",
     "output_type": "stream",
     "text": [
      "[0]\tvalidation-rmse:11.71995                          \n",
      "[1]\tvalidation-rmse:11.26704                          \n",
      "[2]\tvalidation-rmse:10.85010                          \n",
      "[3]\tvalidation-rmse:10.46673                          \n",
      "[4]\tvalidation-rmse:10.11520                          \n",
      "[5]\tvalidation-rmse:9.79261                           \n",
      "[6]\tvalidation-rmse:9.49975                           \n",
      "[7]\tvalidation-rmse:9.23067                           \n",
      "[8]\tvalidation-rmse:8.98787                           \n",
      "[9]\tvalidation-rmse:8.76425                           \n",
      "[10]\tvalidation-rmse:8.56129                          \n",
      "[11]\tvalidation-rmse:8.37780                          \n",
      "[12]\tvalidation-rmse:8.21170                          \n",
      "[13]\tvalidation-rmse:8.05910                          \n",
      "[14]\tvalidation-rmse:7.92252                          \n",
      "[15]\tvalidation-rmse:7.79946                          \n",
      "[16]\tvalidation-rmse:7.68547                          \n",
      "[17]\tvalidation-rmse:7.58322                          \n",
      "[18]\tvalidation-rmse:7.49090                          \n",
      "[19]\tvalidation-rmse:7.40719                          \n",
      "[20]\tvalidation-rmse:7.33255                          \n",
      "[21]\tvalidation-rmse:7.26416                          \n",
      "[22]\tvalidation-rmse:7.20404                          \n",
      "[23]\tvalidation-rmse:7.14725                          \n",
      "[24]\tvalidation-rmse:7.09537                          \n",
      "[25]\tvalidation-rmse:7.05069                          \n",
      "[26]\tvalidation-rmse:7.00871                          \n",
      "[27]\tvalidation-rmse:6.97037                          \n",
      "[28]\tvalidation-rmse:6.93592                          \n",
      "[29]\tvalidation-rmse:6.90456                          \n",
      "[30]\tvalidation-rmse:6.87752                          \n",
      "[31]\tvalidation-rmse:6.85098                          \n",
      "[32]\tvalidation-rmse:6.82737                          \n",
      "[33]\tvalidation-rmse:6.80503                          \n",
      "[34]\tvalidation-rmse:6.78650                          \n",
      "[35]\tvalidation-rmse:6.76878                          \n",
      "[36]\tvalidation-rmse:6.75058                          \n",
      "[37]\tvalidation-rmse:6.73661                          \n",
      "[38]\tvalidation-rmse:6.72299                          \n",
      "[39]\tvalidation-rmse:6.70994                          \n",
      "[40]\tvalidation-rmse:6.69788                          \n",
      "[41]\tvalidation-rmse:6.68645                          \n",
      "[42]\tvalidation-rmse:6.67681                          \n",
      "[43]\tvalidation-rmse:6.66825                          \n",
      "[44]\tvalidation-rmse:6.66078                          \n",
      "[45]\tvalidation-rmse:6.65211                          \n",
      "[46]\tvalidation-rmse:6.64481                          \n",
      "[47]\tvalidation-rmse:6.63691                          \n",
      "[48]\tvalidation-rmse:6.63133                          \n",
      "[49]\tvalidation-rmse:6.62611                          \n",
      "[50]\tvalidation-rmse:6.62116                          \n",
      "[51]\tvalidation-rmse:6.61597                          \n",
      "[52]\tvalidation-rmse:6.61143                          \n",
      "[53]\tvalidation-rmse:6.60808                          \n",
      "[54]\tvalidation-rmse:6.60382                          \n",
      " 10%|█         | 1/10 [01:41<15:12, 101.37s/trial, best loss: 43.61050054206809]"
     ]
    },
    {
     "name": "stderr",
     "output_type": "stream",
     "text": [
      "c:\\Users\\Mateo\\miniconda3\\envs\\mlopsw2\\lib\\site-packages\\xgboost\\core.py:158: UserWarning: [17:49:50] WARNING: C:\\buildkite-agent\\builds\\buildkite-windows-cpu-autoscaling-group-i-08cbc0333d8d4aae1-1\\xgboost\\xgboost-ci-windows\\src\\objective\\regression_obj.cu:227: reg:linear is now deprecated in favor of reg:squarederror.\n",
      "  warnings.warn(smsg, UserWarning)\n",
      "\n"
     ]
    },
    {
     "name": "stdout",
     "output_type": "stream",
     "text": [
      "[0]\tvalidation-rmse:9.48636                                                     \n",
      "[1]\tvalidation-rmse:8.04366                                                     \n",
      "[2]\tvalidation-rmse:7.32381                                                     \n",
      "[3]\tvalidation-rmse:6.96654                                                     \n",
      "[4]\tvalidation-rmse:6.78904                                                     \n",
      "[5]\tvalidation-rmse:6.69398                                                     \n",
      "[6]\tvalidation-rmse:6.63375                                                     \n",
      "[7]\tvalidation-rmse:6.59640                                                     \n",
      "[8]\tvalidation-rmse:6.57387                                                     \n",
      "[9]\tvalidation-rmse:6.55623                                                     \n",
      "[10]\tvalidation-rmse:6.54463                                                    \n",
      "[11]\tvalidation-rmse:6.53024                                                    \n",
      "[12]\tvalidation-rmse:6.51970                                                    \n",
      "[13]\tvalidation-rmse:6.51502                                                    \n",
      "[14]\tvalidation-rmse:6.51218                                                    \n",
      "[15]\tvalidation-rmse:6.50834                                                    \n",
      "[16]\tvalidation-rmse:6.50586                                                    \n",
      "[17]\tvalidation-rmse:6.50397                                                    \n",
      "[18]\tvalidation-rmse:6.50194                                                    \n",
      "[19]\tvalidation-rmse:6.49933                                                    \n",
      "[20]\tvalidation-rmse:6.49786                                                    \n",
      "[21]\tvalidation-rmse:6.49622                                                    \n",
      "[22]\tvalidation-rmse:6.49498                                                    \n",
      "[23]\tvalidation-rmse:6.49277                                                    \n",
      "[24]\tvalidation-rmse:6.49134                                                    \n",
      "[25]\tvalidation-rmse:6.49040                                                    \n",
      "[26]\tvalidation-rmse:6.48736                                                    \n",
      "[27]\tvalidation-rmse:6.48704                                                    \n",
      "[28]\tvalidation-rmse:6.48586                                                    \n",
      "[29]\tvalidation-rmse:6.48417                                                    \n",
      "[30]\tvalidation-rmse:6.48356                                                    \n",
      "[31]\tvalidation-rmse:6.48276                                                    \n",
      "[32]\tvalidation-rmse:6.48216                                                    \n",
      "[33]\tvalidation-rmse:6.48125                                                    \n",
      "[34]\tvalidation-rmse:6.47954                                                    \n",
      "[35]\tvalidation-rmse:6.47927                                                    \n",
      "[36]\tvalidation-rmse:6.47922                                                    \n",
      "[37]\tvalidation-rmse:6.47845                                                    \n",
      "[38]\tvalidation-rmse:6.47781                                                    \n",
      "[39]\tvalidation-rmse:6.47738                                                    \n",
      "[40]\tvalidation-rmse:6.47676                                                    \n",
      "[41]\tvalidation-rmse:6.47524                                                    \n",
      "[42]\tvalidation-rmse:6.47408                                                    \n",
      "[43]\tvalidation-rmse:6.47393                                                    \n",
      "[44]\tvalidation-rmse:6.47348                                                    \n",
      "[45]\tvalidation-rmse:6.47228                                                    \n",
      "[46]\tvalidation-rmse:6.47171                                                    \n",
      "[47]\tvalidation-rmse:6.47091                                                    \n",
      "[48]\tvalidation-rmse:6.47027                                                    \n",
      "[49]\tvalidation-rmse:6.46990                                                    \n",
      "[50]\tvalidation-rmse:6.46957                                                    \n",
      "[51]\tvalidation-rmse:6.46904                                                    \n",
      "[52]\tvalidation-rmse:6.46861                                                    \n",
      "[53]\tvalidation-rmse:6.46839                                                    \n",
      "[54]\tvalidation-rmse:6.46787                                                    \n",
      " 20%|██        | 2/10 [02:39<10:06, 75.81s/trial, best loss: 41.83336442689274] "
     ]
    },
    {
     "name": "stderr",
     "output_type": "stream",
     "text": [
      "c:\\Users\\Mateo\\miniconda3\\envs\\mlopsw2\\lib\\site-packages\\xgboost\\core.py:158: UserWarning: [17:50:48] WARNING: C:\\buildkite-agent\\builds\\buildkite-windows-cpu-autoscaling-group-i-08cbc0333d8d4aae1-1\\xgboost\\xgboost-ci-windows\\src\\objective\\regression_obj.cu:227: reg:linear is now deprecated in favor of reg:squarederror.\n",
      "  warnings.warn(smsg, UserWarning)\n",
      "\n"
     ]
    },
    {
     "name": "stdout",
     "output_type": "stream",
     "text": [
      "[0]\tvalidation-rmse:11.45085                                                   \n",
      "[1]\tvalidation-rmse:10.78576                                                   \n",
      "[2]\tvalidation-rmse:10.20564                                                   \n",
      "[3]\tvalidation-rmse:9.69660                                                    \n",
      "[4]\tvalidation-rmse:9.25978                                                    \n",
      "[5]\tvalidation-rmse:8.87660                                                    \n",
      "[6]\tvalidation-rmse:8.54995                                                    \n",
      "[7]\tvalidation-rmse:8.26512                                                    \n",
      "[8]\tvalidation-rmse:8.02566                                                    \n",
      "[9]\tvalidation-rmse:7.81989                                                    \n",
      "[10]\tvalidation-rmse:7.63468                                                   \n",
      "[11]\tvalidation-rmse:7.48599                                                   \n",
      "[12]\tvalidation-rmse:7.35880                                                   \n",
      "[13]\tvalidation-rmse:7.24851                                                   \n",
      "[14]\tvalidation-rmse:7.15377                                                   \n",
      "[15]\tvalidation-rmse:7.07237                                                   \n",
      "[16]\tvalidation-rmse:7.00456                                                   \n",
      "[17]\tvalidation-rmse:6.94742                                                   \n",
      "[18]\tvalidation-rmse:6.89325                                                   \n",
      "[19]\tvalidation-rmse:6.85197                                                   \n",
      "[20]\tvalidation-rmse:6.81599                                                   \n",
      "[21]\tvalidation-rmse:6.78037                                                   \n",
      "[22]\tvalidation-rmse:6.75402                                                   \n",
      "[23]\tvalidation-rmse:6.72928                                                   \n",
      "[24]\tvalidation-rmse:6.70446                                                   \n",
      "[25]\tvalidation-rmse:6.68618                                                   \n",
      "[26]\tvalidation-rmse:6.67106                                                   \n",
      "[27]\tvalidation-rmse:6.65478                                                   \n",
      "[28]\tvalidation-rmse:6.64180                                                   \n",
      "[29]\tvalidation-rmse:6.62762                                                   \n",
      "[30]\tvalidation-rmse:6.61792                                                   \n",
      "[31]\tvalidation-rmse:6.60822                                                   \n",
      "[32]\tvalidation-rmse:6.59821                                                   \n",
      "[33]\tvalidation-rmse:6.59219                                                   \n",
      "[34]\tvalidation-rmse:6.58557                                                   \n",
      "[35]\tvalidation-rmse:6.57988                                                   \n",
      "[36]\tvalidation-rmse:6.57433                                                   \n",
      "[37]\tvalidation-rmse:6.56907                                                   \n",
      "[38]\tvalidation-rmse:6.56413                                                   \n",
      "[39]\tvalidation-rmse:6.56070                                                   \n",
      "[40]\tvalidation-rmse:6.55723                                                   \n",
      "[41]\tvalidation-rmse:6.55391                                                   \n",
      "[42]\tvalidation-rmse:6.55039                                                   \n",
      "[43]\tvalidation-rmse:6.54730                                                   \n",
      "[44]\tvalidation-rmse:6.54405                                                   \n",
      "[45]\tvalidation-rmse:6.54204                                                   \n",
      "[46]\tvalidation-rmse:6.54047                                                   \n",
      "[47]\tvalidation-rmse:6.53770                                                   \n",
      "[48]\tvalidation-rmse:6.53556                                                   \n",
      "[49]\tvalidation-rmse:6.53309                                                   \n",
      "[50]\tvalidation-rmse:6.53145                                                   \n",
      "[51]\tvalidation-rmse:6.53009                                                   \n",
      "[52]\tvalidation-rmse:6.52834                                                   \n",
      "[53]\tvalidation-rmse:6.52667                                                   \n",
      "[54]\tvalidation-rmse:6.52569                                                   \n",
      " 30%|███       | 3/10 [05:16<13:09, 112.76s/trial, best loss: 41.83336442689274]"
     ]
    },
    {
     "name": "stderr",
     "output_type": "stream",
     "text": [
      "c:\\Users\\Mateo\\miniconda3\\envs\\mlopsw2\\lib\\site-packages\\xgboost\\core.py:158: UserWarning: [17:53:25] WARNING: C:\\buildkite-agent\\builds\\buildkite-windows-cpu-autoscaling-group-i-08cbc0333d8d4aae1-1\\xgboost\\xgboost-ci-windows\\src\\objective\\regression_obj.cu:227: reg:linear is now deprecated in favor of reg:squarederror.\n",
      "  warnings.warn(smsg, UserWarning)\n",
      "\n"
     ]
    },
    {
     "name": "stdout",
     "output_type": "stream",
     "text": [
      "[0]\tvalidation-rmse:10.49370                                                    \n",
      "[1]\tvalidation-rmse:9.27163                                                     \n",
      "[2]\tvalidation-rmse:8.42263                                                     \n",
      "[3]\tvalidation-rmse:7.84323                                                     \n",
      "[4]\tvalidation-rmse:7.45331                                                     \n",
      "[5]\tvalidation-rmse:7.19001                                                     \n",
      "[6]\tvalidation-rmse:7.01476                                                     \n",
      "[7]\tvalidation-rmse:6.89697                                                     \n",
      "[8]\tvalidation-rmse:6.81390                                                     \n",
      "[9]\tvalidation-rmse:6.75757                                                     \n",
      "[10]\tvalidation-rmse:6.71176                                                    \n",
      "[11]\tvalidation-rmse:6.68020                                                    \n",
      "[12]\tvalidation-rmse:6.65553                                                    \n",
      "[13]\tvalidation-rmse:6.63760                                                    \n",
      "[14]\tvalidation-rmse:6.62437                                                    \n",
      "[15]\tvalidation-rmse:6.61393                                                    \n",
      "[16]\tvalidation-rmse:6.60588                                                    \n",
      "[17]\tvalidation-rmse:6.59879                                                    \n",
      "[18]\tvalidation-rmse:6.59228                                                    \n",
      "[19]\tvalidation-rmse:6.58530                                                    \n",
      "[20]\tvalidation-rmse:6.58134                                                    \n",
      "[21]\tvalidation-rmse:6.57589                                                    \n",
      "[22]\tvalidation-rmse:6.57350                                                    \n",
      "[23]\tvalidation-rmse:6.56971                                                    \n",
      "[24]\tvalidation-rmse:6.56809                                                    \n",
      "[25]\tvalidation-rmse:6.56664                                                    \n",
      "[26]\tvalidation-rmse:6.56578                                                    \n",
      "[27]\tvalidation-rmse:6.56444                                                    \n",
      "[28]\tvalidation-rmse:6.56256                                                    \n",
      "[29]\tvalidation-rmse:6.56063                                                    \n",
      "[30]\tvalidation-rmse:6.55961                                                    \n",
      "[31]\tvalidation-rmse:6.55880                                                    \n",
      "[32]\tvalidation-rmse:6.55621                                                    \n",
      "[33]\tvalidation-rmse:6.55572                                                    \n",
      "[34]\tvalidation-rmse:6.55486                                                    \n",
      "[35]\tvalidation-rmse:6.55246                                                    \n",
      "[36]\tvalidation-rmse:6.55076                                                    \n",
      "[37]\tvalidation-rmse:6.55015                                                    \n",
      "[38]\tvalidation-rmse:6.54823                                                    \n",
      "[39]\tvalidation-rmse:6.54706                                                    \n",
      "[40]\tvalidation-rmse:6.54590                                                    \n",
      "[41]\tvalidation-rmse:6.54504                                                    \n",
      "[42]\tvalidation-rmse:6.54440                                                    \n",
      "[43]\tvalidation-rmse:6.54386                                                    \n",
      "[44]\tvalidation-rmse:6.54335                                                    \n",
      "[45]\tvalidation-rmse:6.54256                                                    \n",
      "[46]\tvalidation-rmse:6.54166                                                    \n",
      "[47]\tvalidation-rmse:6.54092                                                    \n",
      "[48]\tvalidation-rmse:6.54035                                                    \n",
      "[49]\tvalidation-rmse:6.53985                                                    \n",
      "[50]\tvalidation-rmse:6.53956                                                    \n",
      "[51]\tvalidation-rmse:6.53879                                                    \n",
      "[52]\tvalidation-rmse:6.53768                                                    \n",
      "[53]\tvalidation-rmse:6.53675                                                    \n",
      "[54]\tvalidation-rmse:6.53627                                                    \n",
      " 40%|████      | 4/10 [05:54<08:21, 83.63s/trial, best loss: 41.83336442689274] "
     ]
    },
    {
     "name": "stderr",
     "output_type": "stream",
     "text": [
      "c:\\Users\\Mateo\\miniconda3\\envs\\mlopsw2\\lib\\site-packages\\xgboost\\core.py:158: UserWarning: [17:54:04] WARNING: C:\\buildkite-agent\\builds\\buildkite-windows-cpu-autoscaling-group-i-08cbc0333d8d4aae1-1\\xgboost\\xgboost-ci-windows\\src\\objective\\regression_obj.cu:227: reg:linear is now deprecated in favor of reg:squarederror.\n",
      "  warnings.warn(smsg, UserWarning)\n",
      "\n"
     ]
    },
    {
     "name": "stdout",
     "output_type": "stream",
     "text": [
      "[0]\tvalidation-rmse:11.60555                                                   \n",
      "[1]\tvalidation-rmse:11.05808                                                   \n",
      "[2]\tvalidation-rmse:10.56666                                                   \n",
      "[3]\tvalidation-rmse:10.12645                                                   \n",
      "[4]\tvalidation-rmse:9.73329                                                    \n",
      "[5]\tvalidation-rmse:9.38410                                                    \n",
      "[6]\tvalidation-rmse:9.07222                                                    \n",
      "[7]\tvalidation-rmse:8.79622                                                    \n",
      "[8]\tvalidation-rmse:8.55148                                                    \n",
      "[9]\tvalidation-rmse:8.33491                                                    \n",
      "[10]\tvalidation-rmse:8.14421                                                   \n",
      "[11]\tvalidation-rmse:7.97578                                                   \n",
      "[12]\tvalidation-rmse:7.82775                                                   \n",
      "[13]\tvalidation-rmse:7.69642                                                   \n",
      "[14]\tvalidation-rmse:7.58191                                                   \n",
      "[15]\tvalidation-rmse:7.48081                                                   \n",
      "[16]\tvalidation-rmse:7.39140                                                   \n",
      "[17]\tvalidation-rmse:7.31322                                                   \n",
      "[18]\tvalidation-rmse:7.24505                                                   \n",
      "[19]\tvalidation-rmse:7.18498                                                   \n",
      "[20]\tvalidation-rmse:7.13204                                                   \n",
      "[21]\tvalidation-rmse:7.08582                                                   \n",
      "[22]\tvalidation-rmse:7.04404                                                   \n",
      "[23]\tvalidation-rmse:7.00794                                                   \n",
      "[24]\tvalidation-rmse:6.97534                                                   \n",
      "[25]\tvalidation-rmse:6.94714                                                   \n",
      "[26]\tvalidation-rmse:6.92218                                                   \n",
      "[27]\tvalidation-rmse:6.89927                                                   \n",
      "[28]\tvalidation-rmse:6.87986                                                   \n",
      "[29]\tvalidation-rmse:6.86178                                                   \n",
      "[30]\tvalidation-rmse:6.84616                                                   \n",
      "[31]\tvalidation-rmse:6.83220                                                   \n",
      "[32]\tvalidation-rmse:6.82027                                                   \n",
      "[33]\tvalidation-rmse:6.80935                                                   \n",
      "[34]\tvalidation-rmse:6.79830                                                   \n",
      "[35]\tvalidation-rmse:6.78984                                                   \n",
      "[36]\tvalidation-rmse:6.78117                                                   \n",
      "[37]\tvalidation-rmse:6.77346                                                   \n",
      "[38]\tvalidation-rmse:6.76686                                                   \n",
      "[39]\tvalidation-rmse:6.76081                                                   \n",
      "[40]\tvalidation-rmse:6.75491                                                   \n",
      "[41]\tvalidation-rmse:6.74960                                                   \n",
      "[42]\tvalidation-rmse:6.74518                                                   \n",
      "[43]\tvalidation-rmse:6.74049                                                   \n",
      "[44]\tvalidation-rmse:6.73699                                                   \n",
      "[45]\tvalidation-rmse:6.73356                                                   \n",
      "[46]\tvalidation-rmse:6.73102                                                   \n",
      "[47]\tvalidation-rmse:6.72738                                                   \n",
      "[48]\tvalidation-rmse:6.72481                                                   \n",
      "[49]\tvalidation-rmse:6.72197                                                   \n",
      "[50]\tvalidation-rmse:6.71937                                                   \n",
      "[51]\tvalidation-rmse:6.71725                                                   \n",
      "[52]\tvalidation-rmse:6.71551                                                   \n",
      "[53]\tvalidation-rmse:6.71345                                                   \n",
      "[54]\tvalidation-rmse:6.71199                                                   \n",
      " 50%|█████     | 5/10 [06:01<04:39, 55.84s/trial, best loss: 41.83336442689274]"
     ]
    },
    {
     "name": "stderr",
     "output_type": "stream",
     "text": [
      "c:\\Users\\Mateo\\miniconda3\\envs\\mlopsw2\\lib\\site-packages\\xgboost\\core.py:158: UserWarning: [17:54:11] WARNING: C:\\buildkite-agent\\builds\\buildkite-windows-cpu-autoscaling-group-i-08cbc0333d8d4aae1-1\\xgboost\\xgboost-ci-windows\\src\\objective\\regression_obj.cu:227: reg:linear is now deprecated in favor of reg:squarederror.\n",
      "  warnings.warn(smsg, UserWarning)\n",
      "\n"
     ]
    },
    {
     "name": "stdout",
     "output_type": "stream",
     "text": [
      "[0]\tvalidation-rmse:11.47222                                                   \n",
      "[1]\tvalidation-rmse:10.82205                                                   \n",
      "[2]\tvalidation-rmse:10.25116                                                   \n",
      "[3]\tvalidation-rmse:9.74933                                                    \n",
      "[4]\tvalidation-rmse:9.31767                                                    \n",
      "[5]\tvalidation-rmse:8.93863                                                    \n",
      "[6]\tvalidation-rmse:8.61452                                                    \n",
      "[7]\tvalidation-rmse:8.33094                                                    \n",
      "[8]\tvalidation-rmse:8.08939                                                    \n",
      "[9]\tvalidation-rmse:7.88396                                                    \n",
      "[10]\tvalidation-rmse:7.70596                                                   \n",
      "[11]\tvalidation-rmse:7.54902                                                   \n",
      "[12]\tvalidation-rmse:7.41856                                                   \n",
      "[13]\tvalidation-rmse:7.30839                                                   \n",
      "[14]\tvalidation-rmse:7.21111                                                   \n",
      "[15]\tvalidation-rmse:7.13038                                                   \n",
      "[16]\tvalidation-rmse:7.05850                                                   \n",
      "[17]\tvalidation-rmse:6.99863                                                   \n",
      "[18]\tvalidation-rmse:6.94479                                                   \n",
      "[19]\tvalidation-rmse:6.90039                                                   \n",
      "[20]\tvalidation-rmse:6.86232                                                   \n",
      "[21]\tvalidation-rmse:6.82780                                                   \n",
      "[22]\tvalidation-rmse:6.79805                                                   \n",
      "[23]\tvalidation-rmse:6.77167                                                   \n",
      "[24]\tvalidation-rmse:6.74668                                                   \n",
      "[25]\tvalidation-rmse:6.72709                                                   \n",
      "[26]\tvalidation-rmse:6.71070                                                   \n",
      "[27]\tvalidation-rmse:6.69511                                                   \n",
      "[28]\tvalidation-rmse:6.68028                                                   \n",
      "[29]\tvalidation-rmse:6.66922                                                   \n",
      "[30]\tvalidation-rmse:6.65845                                                   \n",
      "[31]\tvalidation-rmse:6.65001                                                   \n",
      "[32]\tvalidation-rmse:6.64130                                                   \n",
      "[33]\tvalidation-rmse:6.63402                                                   \n",
      "[34]\tvalidation-rmse:6.62764                                                   \n",
      "[35]\tvalidation-rmse:6.62175                                                   \n",
      "[36]\tvalidation-rmse:6.61642                                                   \n",
      "[37]\tvalidation-rmse:6.61153                                                   \n",
      "[38]\tvalidation-rmse:6.60731                                                   \n",
      "[39]\tvalidation-rmse:6.60392                                                   \n",
      "[40]\tvalidation-rmse:6.60069                                                   \n",
      "[41]\tvalidation-rmse:6.59697                                                   \n",
      "[42]\tvalidation-rmse:6.59368                                                   \n",
      "[43]\tvalidation-rmse:6.59088                                                   \n",
      "[44]\tvalidation-rmse:6.58843                                                   \n",
      "[45]\tvalidation-rmse:6.58618                                                   \n",
      "[46]\tvalidation-rmse:6.58379                                                   \n",
      "[47]\tvalidation-rmse:6.58140                                                   \n",
      "[48]\tvalidation-rmse:6.57926                                                   \n",
      "[49]\tvalidation-rmse:6.57770                                                   \n",
      "[50]\tvalidation-rmse:6.57587                                                   \n",
      "[51]\tvalidation-rmse:6.57414                                                   \n",
      "[52]\tvalidation-rmse:6.57291                                                   \n",
      "[53]\tvalidation-rmse:6.57169                                                   \n",
      "[54]\tvalidation-rmse:6.57059                                                   \n",
      " 60%|██████    | 6/10 [07:18<04:11, 62.91s/trial, best loss: 41.83336442689274]"
     ]
    },
    {
     "name": "stderr",
     "output_type": "stream",
     "text": [
      "c:\\Users\\Mateo\\miniconda3\\envs\\mlopsw2\\lib\\site-packages\\xgboost\\core.py:158: UserWarning: [17:55:27] WARNING: C:\\buildkite-agent\\builds\\buildkite-windows-cpu-autoscaling-group-i-08cbc0333d8d4aae1-1\\xgboost\\xgboost-ci-windows\\src\\objective\\regression_obj.cu:227: reg:linear is now deprecated in favor of reg:squarederror.\n",
      "  warnings.warn(smsg, UserWarning)\n",
      "\n"
     ]
    },
    {
     "name": "stdout",
     "output_type": "stream",
     "text": [
      "[0]\tvalidation-rmse:7.19095                                                    \n",
      "[1]\tvalidation-rmse:6.76149                                                    \n",
      "[2]\tvalidation-rmse:6.70537                                                    \n",
      "[3]\tvalidation-rmse:6.69635                                                    \n",
      "[4]\tvalidation-rmse:6.68881                                                    \n",
      "[5]\tvalidation-rmse:6.68814                                                    \n",
      "[6]\tvalidation-rmse:6.68530                                                    \n",
      "[7]\tvalidation-rmse:6.67736                                                    \n",
      "[8]\tvalidation-rmse:6.67305                                                    \n",
      "[9]\tvalidation-rmse:6.66750                                                    \n",
      "[10]\tvalidation-rmse:6.66502                                                   \n",
      "[11]\tvalidation-rmse:6.65808                                                   \n",
      "[12]\tvalidation-rmse:6.65404                                                   \n",
      "[13]\tvalidation-rmse:6.65003                                                   \n",
      "[14]\tvalidation-rmse:6.64504                                                   \n",
      "[15]\tvalidation-rmse:6.64283                                                   \n",
      "[16]\tvalidation-rmse:6.64112                                                   \n",
      "[17]\tvalidation-rmse:6.63664                                                   \n",
      "[18]\tvalidation-rmse:6.63066                                                   \n",
      "[19]\tvalidation-rmse:6.62416                                                   \n",
      "[20]\tvalidation-rmse:6.63220                                                   \n",
      "[21]\tvalidation-rmse:6.62950                                                   \n",
      "[22]\tvalidation-rmse:6.62803                                                   \n",
      "[23]\tvalidation-rmse:6.62864                                                   \n",
      "[24]\tvalidation-rmse:6.62605                                                   \n",
      "[25]\tvalidation-rmse:6.62294                                                   \n",
      "[26]\tvalidation-rmse:6.62177                                                   \n",
      "[27]\tvalidation-rmse:6.62136                                                   \n",
      "[28]\tvalidation-rmse:6.61923                                                   \n",
      "[29]\tvalidation-rmse:6.61725                                                   \n",
      "[30]\tvalidation-rmse:6.61466                                                   \n",
      "[31]\tvalidation-rmse:6.61701                                                   \n",
      "[32]\tvalidation-rmse:6.61526                                                   \n",
      "[33]\tvalidation-rmse:6.61317                                                   \n",
      "[34]\tvalidation-rmse:6.61272                                                   \n",
      "[35]\tvalidation-rmse:6.61015                                                   \n",
      "[36]\tvalidation-rmse:6.60862                                                   \n",
      "[37]\tvalidation-rmse:6.60814                                                   \n",
      "[38]\tvalidation-rmse:6.61048                                                   \n",
      "[39]\tvalidation-rmse:6.60911                                                   \n",
      "[40]\tvalidation-rmse:6.60903                                                   \n",
      "[41]\tvalidation-rmse:6.60899                                                   \n",
      "[42]\tvalidation-rmse:6.61004                                                   \n",
      "[43]\tvalidation-rmse:6.61002                                                   \n",
      "[44]\tvalidation-rmse:6.60560                                                   \n",
      "[45]\tvalidation-rmse:6.60518                                                   \n",
      "[46]\tvalidation-rmse:6.60934                                                   \n",
      "[47]\tvalidation-rmse:6.60811                                                   \n",
      "[48]\tvalidation-rmse:6.60850                                                   \n",
      "[49]\tvalidation-rmse:6.60851                                                   \n",
      "[50]\tvalidation-rmse:6.60612                                                   \n",
      "[51]\tvalidation-rmse:6.60406                                                   \n",
      "[52]\tvalidation-rmse:6.60103                                                   \n",
      "[53]\tvalidation-rmse:6.59902                                                   \n",
      "[54]\tvalidation-rmse:6.59835                                                   \n",
      " 70%|███████   | 7/10 [07:35<02:23, 47.97s/trial, best loss: 41.83336442689274]"
     ]
    },
    {
     "name": "stderr",
     "output_type": "stream",
     "text": [
      "c:\\Users\\Mateo\\miniconda3\\envs\\mlopsw2\\lib\\site-packages\\xgboost\\core.py:158: UserWarning: [17:55:45] WARNING: C:\\buildkite-agent\\builds\\buildkite-windows-cpu-autoscaling-group-i-08cbc0333d8d4aae1-1\\xgboost\\xgboost-ci-windows\\src\\objective\\regression_obj.cu:227: reg:linear is now deprecated in favor of reg:squarederror.\n",
      "  warnings.warn(smsg, UserWarning)\n",
      "\n"
     ]
    },
    {
     "name": "stdout",
     "output_type": "stream",
     "text": [
      "[0]\tvalidation-rmse:11.70887                                                   \n",
      "[1]\tvalidation-rmse:11.24547                                                   \n",
      "[2]\tvalidation-rmse:10.82051                                                   \n",
      "[3]\tvalidation-rmse:10.43156                                                   \n",
      "[4]\tvalidation-rmse:10.07562                                                   \n",
      "[5]\tvalidation-rmse:9.75051                                                    \n",
      "[6]\tvalidation-rmse:9.45398                                                    \n",
      "[7]\tvalidation-rmse:9.18390                                                    \n",
      "[8]\tvalidation-rmse:8.93850                                                    \n",
      "[9]\tvalidation-rmse:8.71637                                                    \n",
      "[10]\tvalidation-rmse:8.51499                                                   \n",
      "[11]\tvalidation-rmse:8.33245                                                   \n",
      "[12]\tvalidation-rmse:8.16752                                                   \n",
      "[13]\tvalidation-rmse:8.01836                                                   \n",
      "[14]\tvalidation-rmse:7.88414                                                   \n",
      "[15]\tvalidation-rmse:7.76251                                                   \n",
      "[16]\tvalidation-rmse:7.65293                                                   \n",
      "[17]\tvalidation-rmse:7.55426                                                   \n",
      "[18]\tvalidation-rmse:7.46600                                                   \n",
      "[19]\tvalidation-rmse:7.38630                                                   \n",
      "[20]\tvalidation-rmse:7.31464                                                   \n",
      "[21]\tvalidation-rmse:7.25052                                                   \n",
      "[22]\tvalidation-rmse:7.19128                                                   \n",
      "[23]\tvalidation-rmse:7.13789                                                   \n",
      "[24]\tvalidation-rmse:7.08978                                                   \n",
      "[25]\tvalidation-rmse:7.04643                                                   \n",
      "[26]\tvalidation-rmse:7.00710                                                   \n",
      "[27]\tvalidation-rmse:6.97213                                                   \n",
      "[28]\tvalidation-rmse:6.93955                                                   \n",
      "[29]\tvalidation-rmse:6.91084                                                   \n",
      "[30]\tvalidation-rmse:6.88398                                                   \n",
      "[31]\tvalidation-rmse:6.86045                                                   \n",
      "[32]\tvalidation-rmse:6.83857                                                   \n",
      "[33]\tvalidation-rmse:6.81856                                                   \n",
      "[34]\tvalidation-rmse:6.80023                                                   \n",
      "[35]\tvalidation-rmse:6.78352                                                   \n",
      "[36]\tvalidation-rmse:6.76864                                                   \n",
      "[37]\tvalidation-rmse:6.75503                                                   \n",
      "[38]\tvalidation-rmse:6.74286                                                   \n",
      "[39]\tvalidation-rmse:6.73131                                                   \n",
      "[40]\tvalidation-rmse:6.72096                                                   \n",
      "[41]\tvalidation-rmse:6.71153                                                   \n",
      "[42]\tvalidation-rmse:6.70250                                                   \n",
      "[43]\tvalidation-rmse:6.69426                                                   \n",
      "[44]\tvalidation-rmse:6.68670                                                   \n",
      "[45]\tvalidation-rmse:6.67965                                                   \n",
      "[46]\tvalidation-rmse:6.67308                                                   \n",
      "[47]\tvalidation-rmse:6.66716                                                   \n",
      "[48]\tvalidation-rmse:6.66192                                                   \n",
      "[49]\tvalidation-rmse:6.65692                                                   \n",
      "[50]\tvalidation-rmse:6.65220                                                   \n",
      "[51]\tvalidation-rmse:6.64780                                                   \n",
      "[52]\tvalidation-rmse:6.64404                                                   \n",
      "[53]\tvalidation-rmse:6.64028                                                   \n",
      "[54]\tvalidation-rmse:6.63708                                                   \n",
      " 80%|████████  | 8/10 [08:25<01:37, 48.53s/trial, best loss: 41.83336442689274]"
     ]
    },
    {
     "name": "stderr",
     "output_type": "stream",
     "text": [
      "c:\\Users\\Mateo\\miniconda3\\envs\\mlopsw2\\lib\\site-packages\\xgboost\\core.py:158: UserWarning: [17:56:34] WARNING: C:\\buildkite-agent\\builds\\buildkite-windows-cpu-autoscaling-group-i-08cbc0333d8d4aae1-1\\xgboost\\xgboost-ci-windows\\src\\objective\\regression_obj.cu:227: reg:linear is now deprecated in favor of reg:squarederror.\n",
      "  warnings.warn(smsg, UserWarning)\n",
      "\n"
     ]
    },
    {
     "name": "stdout",
     "output_type": "stream",
     "text": [
      "[0]\tvalidation-rmse:11.52490                                                   \n",
      "[1]\tvalidation-rmse:10.91334                                                   \n",
      "[2]\tvalidation-rmse:10.37224                                                   \n",
      "[3]\tvalidation-rmse:9.89449                                                    \n",
      "[4]\tvalidation-rmse:9.47391                                                    \n",
      "[5]\tvalidation-rmse:9.10473                                                    \n",
      "[6]\tvalidation-rmse:8.78222                                                    \n",
      "[7]\tvalidation-rmse:8.50010                                                    \n",
      "[8]\tvalidation-rmse:8.25486                                                    \n",
      "[9]\tvalidation-rmse:8.04149                                                    \n",
      "[10]\tvalidation-rmse:7.85646                                                   \n",
      "[11]\tvalidation-rmse:7.69622                                                   \n",
      "[12]\tvalidation-rmse:7.55763                                                   \n",
      "[13]\tvalidation-rmse:7.43787                                                   \n",
      "[14]\tvalidation-rmse:7.33515                                                   \n",
      "[15]\tvalidation-rmse:7.24529                                                   \n",
      "[16]\tvalidation-rmse:7.16759                                                   \n",
      "[17]\tvalidation-rmse:7.10094                                                   \n",
      "[18]\tvalidation-rmse:7.04296                                                   \n",
      "[19]\tvalidation-rmse:6.99218                                                   \n",
      "[20]\tvalidation-rmse:6.94861                                                   \n",
      "[21]\tvalidation-rmse:6.91013                                                   \n",
      "[22]\tvalidation-rmse:6.87679                                                   \n",
      "[23]\tvalidation-rmse:6.84819                                                   \n",
      "[24]\tvalidation-rmse:6.82274                                                   \n",
      "[25]\tvalidation-rmse:6.80059                                                   \n",
      "[26]\tvalidation-rmse:6.78047                                                   \n",
      "[27]\tvalidation-rmse:6.76361                                                   \n",
      "[28]\tvalidation-rmse:6.74784                                                   \n",
      "[29]\tvalidation-rmse:6.73434                                                   \n",
      "[30]\tvalidation-rmse:6.72186                                                   \n",
      "[31]\tvalidation-rmse:6.71113                                                   \n",
      "[32]\tvalidation-rmse:6.70145                                                   \n",
      "[33]\tvalidation-rmse:6.69280                                                   \n",
      "[34]\tvalidation-rmse:6.68497                                                   \n",
      "[35]\tvalidation-rmse:6.67765                                                   \n",
      "[36]\tvalidation-rmse:6.67124                                                   \n",
      "[37]\tvalidation-rmse:6.66569                                                   \n",
      "[38]\tvalidation-rmse:6.65986                                                   \n",
      "[39]\tvalidation-rmse:6.65548                                                   \n",
      "[40]\tvalidation-rmse:6.65089                                                   \n",
      "[41]\tvalidation-rmse:6.64672                                                   \n",
      "[42]\tvalidation-rmse:6.64262                                                   \n",
      "[43]\tvalidation-rmse:6.63910                                                   \n",
      "[44]\tvalidation-rmse:6.63609                                                   \n",
      "[45]\tvalidation-rmse:6.63319                                                   \n",
      "[46]\tvalidation-rmse:6.63000                                                   \n",
      "[47]\tvalidation-rmse:6.62709                                                   \n",
      "[48]\tvalidation-rmse:6.62447                                                   \n",
      "[49]\tvalidation-rmse:6.62215                                                   \n",
      "[50]\tvalidation-rmse:6.61986                                                   \n",
      "[51]\tvalidation-rmse:6.61708                                                   \n",
      "[52]\tvalidation-rmse:6.61458                                                   \n",
      "[53]\tvalidation-rmse:6.61269                                                   \n",
      "[54]\tvalidation-rmse:6.61062                                                   \n",
      " 90%|█████████ | 9/10 [08:56<00:43, 43.23s/trial, best loss: 41.83336442689274]"
     ]
    },
    {
     "name": "stderr",
     "output_type": "stream",
     "text": [
      "c:\\Users\\Mateo\\miniconda3\\envs\\mlopsw2\\lib\\site-packages\\xgboost\\core.py:158: UserWarning: [17:57:06] WARNING: C:\\buildkite-agent\\builds\\buildkite-windows-cpu-autoscaling-group-i-08cbc0333d8d4aae1-1\\xgboost\\xgboost-ci-windows\\src\\objective\\regression_obj.cu:227: reg:linear is now deprecated in favor of reg:squarederror.\n",
      "  warnings.warn(smsg, UserWarning)\n",
      "\n"
     ]
    },
    {
     "name": "stdout",
     "output_type": "stream",
     "text": [
      "[0]\tvalidation-rmse:10.82709                                                   \n",
      "[1]\tvalidation-rmse:9.76099                                                    \n",
      "[2]\tvalidation-rmse:8.95050                                                    \n",
      "[3]\tvalidation-rmse:8.34140                                                    \n",
      "[4]\tvalidation-rmse:7.89022                                                    \n",
      "[5]\tvalidation-rmse:7.55866                                                    \n",
      "[6]\tvalidation-rmse:7.31642                                                    \n",
      "[7]\tvalidation-rmse:7.13964                                                    \n",
      "[8]\tvalidation-rmse:7.00836                                                    \n",
      "[9]\tvalidation-rmse:6.91178                                                    \n",
      "[10]\tvalidation-rmse:6.83979                                                   \n",
      "[11]\tvalidation-rmse:6.78643                                                   \n",
      "[12]\tvalidation-rmse:6.74572                                                   \n",
      "[13]\tvalidation-rmse:6.71520                                                   \n",
      "[14]\tvalidation-rmse:6.69119                                                   \n",
      "[15]\tvalidation-rmse:6.67285                                                   \n",
      "[16]\tvalidation-rmse:6.65755                                                   \n",
      "[17]\tvalidation-rmse:6.64403                                                   \n",
      "[18]\tvalidation-rmse:6.63408                                                   \n",
      "[19]\tvalidation-rmse:6.62541                                                   \n",
      "[20]\tvalidation-rmse:6.61786                                                   \n",
      "[21]\tvalidation-rmse:6.61157                                                   \n",
      "[22]\tvalidation-rmse:6.60655                                                   \n",
      "[23]\tvalidation-rmse:6.60195                                                   \n",
      "[24]\tvalidation-rmse:6.59786                                                   \n",
      "[25]\tvalidation-rmse:6.59532                                                   \n",
      "[26]\tvalidation-rmse:6.59263                                                   \n",
      "[27]\tvalidation-rmse:6.58928                                                   \n",
      "[28]\tvalidation-rmse:6.58777                                                   \n",
      "[29]\tvalidation-rmse:6.58597                                                   \n",
      "[30]\tvalidation-rmse:6.58241                                                   \n",
      "[31]\tvalidation-rmse:6.58118                                                   \n",
      "[32]\tvalidation-rmse:6.57943                                                   \n",
      "[33]\tvalidation-rmse:6.57811                                                   \n",
      "[34]\tvalidation-rmse:6.57720                                                   \n",
      "[35]\tvalidation-rmse:6.57570                                                   \n",
      "[36]\tvalidation-rmse:6.57351                                                   \n",
      "[37]\tvalidation-rmse:6.57239                                                   \n",
      "[38]\tvalidation-rmse:6.57092                                                   \n",
      "[39]\tvalidation-rmse:6.56978                                                   \n",
      "[40]\tvalidation-rmse:6.56854                                                   \n",
      "[41]\tvalidation-rmse:6.56742                                                   \n",
      "[42]\tvalidation-rmse:6.56642                                                   \n",
      "[43]\tvalidation-rmse:6.56564                                                   \n",
      "[44]\tvalidation-rmse:6.56517                                                   \n",
      "[45]\tvalidation-rmse:6.56412                                                   \n",
      "[46]\tvalidation-rmse:6.56175                                                   \n",
      "[47]\tvalidation-rmse:6.56055                                                   \n",
      "[48]\tvalidation-rmse:6.55968                                                   \n",
      "[49]\tvalidation-rmse:6.55911                                                   \n",
      "[50]\tvalidation-rmse:6.55803                                                   \n",
      "[51]\tvalidation-rmse:6.55709                                                   \n",
      "[52]\tvalidation-rmse:6.55637                                                   \n",
      "[53]\tvalidation-rmse:6.55488                                                   \n",
      "[54]\tvalidation-rmse:6.55411                                                   \n",
      "100%|██████████| 10/10 [09:09<00:00, 54.98s/trial, best loss: 41.83336442689274]\n"
     ]
    }
   ],
   "source": [
    "best_result = fmin(\n",
    "    fn=objective,\n",
    "    space=search_space,\n",
    "    algo = tpe.suggest,\n",
    "    max_evals=10,\n",
    "    trials=Trials() # Where the information will be stored\n",
    ")"
   ]
  },
  {
   "cell_type": "markdown",
   "id": "168e6dc3",
   "metadata": {},
   "source": [
    "### **MODEL**: Using the best model"
   ]
  },
  {
   "cell_type": "code",
   "execution_count": 46,
   "id": "ec0f87ce",
   "metadata": {},
   "outputs": [],
   "source": [
    "mlflow.xgboost.autolog(disable=True)\n"
   ]
  },
  {
   "cell_type": "code",
   "execution_count": 43,
   "id": "9115691c",
   "metadata": {},
   "outputs": [
    {
     "name": "stderr",
     "output_type": "stream",
     "text": [
      "2025/05/19 18:07:12 INFO mlflow.utils.autologging_utils: Created MLflow autologging run with ID '7e0a0d6f6d9c42dba0a2ce45fb3a552d', which will track hyperparameters, performance metrics, model artifacts, and lineage information for the current xgboost workflow\n",
      "c:\\Users\\Mateo\\miniconda3\\envs\\mlopsw2\\lib\\site-packages\\xgboost\\core.py:158: UserWarning: [18:07:38] WARNING: C:\\buildkite-agent\\builds\\buildkite-windows-cpu-autoscaling-group-i-08cbc0333d8d4aae1-1\\xgboost\\xgboost-ci-windows\\src\\objective\\regression_obj.cu:227: reg:linear is now deprecated in favor of reg:squarederror.\n",
      "  warnings.warn(smsg, UserWarning)\n"
     ]
    },
    {
     "name": "stdout",
     "output_type": "stream",
     "text": [
      "[0]\tvalidation-rmse:11.70393\n",
      "[1]\tvalidation-rmse:11.23536\n",
      "[2]\tvalidation-rmse:10.80481\n",
      "[3]\tvalidation-rmse:10.40988\n",
      "[4]\tvalidation-rmse:10.04783\n",
      "[5]\tvalidation-rmse:9.71711\n",
      "[6]\tvalidation-rmse:9.41530\n",
      "[7]\tvalidation-rmse:9.14004\n",
      "[8]\tvalidation-rmse:8.88961\n",
      "[9]\tvalidation-rmse:8.66161\n",
      "[10]\tvalidation-rmse:8.45457\n",
      "[11]\tvalidation-rmse:8.26703\n",
      "[12]\tvalidation-rmse:8.09712\n",
      "[13]\tvalidation-rmse:7.94369\n",
      "[14]\tvalidation-rmse:7.80446\n",
      "[15]\tvalidation-rmse:7.67864\n",
      "[16]\tvalidation-rmse:7.56531\n",
      "[17]\tvalidation-rmse:7.46289\n",
      "[18]\tvalidation-rmse:7.37013\n",
      "[19]\tvalidation-rmse:7.28677\n",
      "[20]\tvalidation-rmse:7.21142\n",
      "[21]\tvalidation-rmse:7.14377\n",
      "[22]\tvalidation-rmse:7.08197\n",
      "[23]\tvalidation-rmse:7.02709\n",
      "[24]\tvalidation-rmse:6.97765\n",
      "[25]\tvalidation-rmse:6.93290\n",
      "[26]\tvalidation-rmse:6.89304\n",
      "[27]\tvalidation-rmse:6.85624\n",
      "[28]\tvalidation-rmse:6.82282\n",
      "[29]\tvalidation-rmse:6.79214\n",
      "[30]\tvalidation-rmse:6.76428\n",
      "[31]\tvalidation-rmse:6.73991\n",
      "[32]\tvalidation-rmse:6.71674\n",
      "[33]\tvalidation-rmse:6.69590\n",
      "[34]\tvalidation-rmse:6.67735\n",
      "[35]\tvalidation-rmse:6.66075\n",
      "[36]\tvalidation-rmse:6.64513\n",
      "[37]\tvalidation-rmse:6.63054\n",
      "[38]\tvalidation-rmse:6.61745\n",
      "[39]\tvalidation-rmse:6.60499\n",
      "[40]\tvalidation-rmse:6.59363\n",
      "[41]\tvalidation-rmse:6.58324\n",
      "[42]\tvalidation-rmse:6.57356\n",
      "[43]\tvalidation-rmse:6.56471\n",
      "[44]\tvalidation-rmse:6.55667\n",
      "[45]\tvalidation-rmse:6.54843\n",
      "[46]\tvalidation-rmse:6.54099\n",
      "[47]\tvalidation-rmse:6.53424\n",
      "[48]\tvalidation-rmse:6.52782\n",
      "[49]\tvalidation-rmse:6.52210\n",
      "[50]\tvalidation-rmse:6.51654\n",
      "[51]\tvalidation-rmse:6.51165\n",
      "[52]\tvalidation-rmse:6.50681\n",
      "[53]\tvalidation-rmse:6.50279\n",
      "[54]\tvalidation-rmse:6.49873\n"
     ]
    },
    {
     "name": "stderr",
     "output_type": "stream",
     "text": [
      "2025/05/19 18:10:36 WARNING mlflow.xgboost: Failed to infer model signature: could not sample data to infer model signature: please ensure that autologging is enabled before constructing the dataset.\n",
      "2025/05/19 18:10:36 WARNING mlflow.utils.autologging_utils: MLflow autologging encountered a warning: \"c:\\Users\\Mateo\\miniconda3\\envs\\mlopsw2\\lib\\site-packages\\xgboost\\core.py:158: UserWarning: [18:10:36] WARNING: C:\\buildkite-agent\\builds\\buildkite-windows-cpu-autoscaling-group-i-08cbc0333d8d4aae1-1\\xgboost\\xgboost-ci-windows\\src\\c_api\\c_api.cc:1374: Saving model in the UBJSON format as default.  You can use file extension: `json`, `ubj` or `deprecated` to choose between formats.\"\n",
      "2025/05/19 18:10:55 WARNING mlflow.models.model: Model logged without a signature and input example. Please set `input_example` parameter when logging the model to auto infer the model signature.\n"
     ]
    }
   ],
   "source": [
    "params = {\n",
    "    'max_depth': 84,\n",
    "    'learning_rate': 0.06248648809504339,\n",
    "    'reg_alpha' : 0.01868809980419891,\n",
    "    'reg_lambda': 0.08788616023689615,\n",
    "    'min_child_weight': 3.4431892558874027,\n",
    "    'objective' : 'reg:linear',\n",
    "    'seed' : 123\n",
    "}\n",
    "\n",
    "mlflow.xgboost.autolog()\n",
    "\n",
    "booster = xgb.train(\n",
    "    params=params,\n",
    "    dtrain=train,\n",
    "    num_boost_round=55,\n",
    "    evals=[(valid,\"validation\")],\n",
    "    early_stopping_rounds=50,\n",
    ")"
   ]
  },
  {
   "cell_type": "markdown",
   "id": "5fd41f25",
   "metadata": {},
   "source": [
    "### **MLFLOW**: Saving the model and the preprocessor"
   ]
  },
  {
   "cell_type": "code",
   "execution_count": 47,
   "id": "4171c0c0",
   "metadata": {},
   "outputs": [
    {
     "name": "stderr",
     "output_type": "stream",
     "text": [
      "c:\\Users\\Mateo\\miniconda3\\envs\\mlopsw2\\lib\\site-packages\\xgboost\\core.py:158: UserWarning: [18:59:52] WARNING: C:\\buildkite-agent\\builds\\buildkite-windows-cpu-autoscaling-group-i-08cbc0333d8d4aae1-1\\xgboost\\xgboost-ci-windows\\src\\objective\\regression_obj.cu:227: reg:linear is now deprecated in favor of reg:squarederror.\n",
      "  warnings.warn(smsg, UserWarning)\n"
     ]
    },
    {
     "name": "stdout",
     "output_type": "stream",
     "text": [
      "[0]\tvalidation-rmse:11.70393\n",
      "[1]\tvalidation-rmse:11.23536\n",
      "[2]\tvalidation-rmse:10.80481\n",
      "[3]\tvalidation-rmse:10.40988\n",
      "[4]\tvalidation-rmse:10.04783\n",
      "[5]\tvalidation-rmse:9.71711\n",
      "[6]\tvalidation-rmse:9.41530\n",
      "[7]\tvalidation-rmse:9.14004\n",
      "[8]\tvalidation-rmse:8.88961\n",
      "[9]\tvalidation-rmse:8.66161\n",
      "[10]\tvalidation-rmse:8.45457\n",
      "[11]\tvalidation-rmse:8.26703\n",
      "[12]\tvalidation-rmse:8.09712\n",
      "[13]\tvalidation-rmse:7.94369\n",
      "[14]\tvalidation-rmse:7.80446\n",
      "[15]\tvalidation-rmse:7.67864\n",
      "[16]\tvalidation-rmse:7.56531\n",
      "[17]\tvalidation-rmse:7.46289\n",
      "[18]\tvalidation-rmse:7.37013\n",
      "[19]\tvalidation-rmse:7.28677\n",
      "[20]\tvalidation-rmse:7.21142\n",
      "[21]\tvalidation-rmse:7.14377\n",
      "[22]\tvalidation-rmse:7.08197\n",
      "[23]\tvalidation-rmse:7.02709\n",
      "[24]\tvalidation-rmse:6.97765\n",
      "[25]\tvalidation-rmse:6.93290\n",
      "[26]\tvalidation-rmse:6.89304\n",
      "[27]\tvalidation-rmse:6.85624\n",
      "[28]\tvalidation-rmse:6.82282\n",
      "[29]\tvalidation-rmse:6.79214\n",
      "[30]\tvalidation-rmse:6.76428\n",
      "[31]\tvalidation-rmse:6.73991\n",
      "[32]\tvalidation-rmse:6.71674\n",
      "[33]\tvalidation-rmse:6.69590\n",
      "[34]\tvalidation-rmse:6.67735\n",
      "[35]\tvalidation-rmse:6.66075\n",
      "[36]\tvalidation-rmse:6.64513\n",
      "[37]\tvalidation-rmse:6.63054\n",
      "[38]\tvalidation-rmse:6.61745\n",
      "[39]\tvalidation-rmse:6.60499\n",
      "[40]\tvalidation-rmse:6.59363\n",
      "[41]\tvalidation-rmse:6.58324\n",
      "[42]\tvalidation-rmse:6.57356\n",
      "[43]\tvalidation-rmse:6.56471\n",
      "[44]\tvalidation-rmse:6.55667\n",
      "[45]\tvalidation-rmse:6.54843\n",
      "[46]\tvalidation-rmse:6.54099\n",
      "[47]\tvalidation-rmse:6.53424\n",
      "[48]\tvalidation-rmse:6.52782\n",
      "[49]\tvalidation-rmse:6.52210\n",
      "[50]\tvalidation-rmse:6.51654\n",
      "[51]\tvalidation-rmse:6.51165\n",
      "[52]\tvalidation-rmse:6.50681\n",
      "[53]\tvalidation-rmse:6.50279\n",
      "[54]\tvalidation-rmse:6.49873\n"
     ]
    },
    {
     "name": "stderr",
     "output_type": "stream",
     "text": [
      "c:\\Users\\Mateo\\miniconda3\\envs\\mlopsw2\\lib\\site-packages\\xgboost\\core.py:158: UserWarning: [19:02:08] WARNING: C:\\buildkite-agent\\builds\\buildkite-windows-cpu-autoscaling-group-i-08cbc0333d8d4aae1-1\\xgboost\\xgboost-ci-windows\\src\\c_api\\c_api.cc:1374: Saving model in the UBJSON format as default.  You can use file extension: `json`, `ubj` or `deprecated` to choose between formats.\n",
      "  warnings.warn(smsg, UserWarning)\n",
      "2025/05/19 19:02:20 WARNING mlflow.models.model: Model logged without a signature and input example. Please set `input_example` parameter when logging the model to auto infer the model signature.\n"
     ]
    }
   ],
   "source": [
    "with mlflow.start_run():\n",
    "\n",
    "    best_params = {\n",
    "        'max_depth': 84,\n",
    "        'learning_rate': 0.06248648809504339,\n",
    "        'reg_alpha' : 0.01868809980419891,\n",
    "        'reg_lambda': 0.08788616023689615,\n",
    "        'min_child_weight': 3.4431892558874027,\n",
    "        'objective' : 'reg:linear',\n",
    "        'seed' : 123\n",
    "    }\n",
    "\n",
    "    mlflow.log_params(best_params)\n",
    "\n",
    "    booster = xgb.train(\n",
    "        params=best_params,\n",
    "        dtrain=train,\n",
    "        num_boost_round=55,\n",
    "        evals=[(valid,\"validation\")],\n",
    "        early_stopping_rounds=50,\n",
    "    )\n",
    "\n",
    "    y_pred = booster.predict(valid)\n",
    "    rmse = mean_squared_error(y_val, y_pred)\n",
    "    mlflow.log_metric(\"rmse\",rmse)\n",
    "    \n",
    "\n",
    "    with open(\"models/preprocessor.b\", \"wb\") as f_out:\n",
    "        pickle.dump(dv, f_out)\n",
    "\n",
    "    mlflow.log_artifact(\"models/preprocessor.b\", artifact_path=\"preprocessor\")\n",
    "\n",
    "    mlflow.xgboost.log_model(booster, artifact_path=\"models_mlflow\")\n"
   ]
  },
  {
   "cell_type": "markdown",
   "id": "38ec23b7",
   "metadata": {},
   "source": [
    "-----------"
   ]
  },
  {
   "cell_type": "markdown",
   "id": "97e463c4",
   "metadata": {},
   "source": [
    "### **MLFLOW**: Making predictions with the MLFLOW Artifacts"
   ]
  },
  {
   "cell_type": "code",
   "execution_count": 48,
   "id": "2e2b226a",
   "metadata": {},
   "outputs": [
    {
     "data": {
      "text/plain": [
       "mlflow.pyfunc.loaded_model:\n",
       "  artifact_path: models_mlflow\n",
       "  flavor: mlflow.xgboost\n",
       "  run_id: 7fedd2aa61ee4659b8c2303ce3c0ad57"
      ]
     },
     "execution_count": 48,
     "metadata": {},
     "output_type": "execute_result"
    }
   ],
   "source": [
    "model_uri = 'runs:/7fedd2aa61ee4659b8c2303ce3c0ad57/models_mlflow'\n",
    "\n",
    "loaded_model = mlflow.pyfunc.load_model(model_uri)\n",
    "loaded_model"
   ]
  },
  {
   "cell_type": "markdown",
   "id": "46926db4",
   "metadata": {},
   "source": [
    "We can also import the model as XGBoost directly"
   ]
  },
  {
   "cell_type": "code",
   "execution_count": 49,
   "id": "c3052c53",
   "metadata": {},
   "outputs": [
    {
     "data": {
      "text/plain": [
       "<xgboost.core.Booster at 0x200c9c959d0>"
      ]
     },
     "execution_count": 49,
     "metadata": {},
     "output_type": "execute_result"
    }
   ],
   "source": [
    "xgboost_model = mlflow.xgboost.load_model(model_uri)\n",
    "xgboost_model"
   ]
  },
  {
   "cell_type": "code",
   "execution_count": 52,
   "id": "d4d5d253",
   "metadata": {},
   "outputs": [
    {
     "data": {
      "text/plain": [
       "6.498726287114662"
      ]
     },
     "execution_count": 52,
     "metadata": {},
     "output_type": "execute_result"
    }
   ],
   "source": [
    "y_pred = xgboost_model.predict(valid)\n",
    "rmse = mean_squared_error(y_val, y_pred)\n",
    "rmse**(1/2)"
   ]
  }
 ],
 "metadata": {
  "kernelspec": {
   "display_name": "mlopsw2",
   "language": "python",
   "name": "python3"
  },
  "language_info": {
   "codemirror_mode": {
    "name": "ipython",
    "version": 3
   },
   "file_extension": ".py",
   "mimetype": "text/x-python",
   "name": "python",
   "nbconvert_exporter": "python",
   "pygments_lexer": "ipython3",
   "version": "3.9.0"
  }
 },
 "nbformat": 4,
 "nbformat_minor": 5
}
